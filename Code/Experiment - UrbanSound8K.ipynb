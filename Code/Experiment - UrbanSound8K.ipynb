{
 "cells": [
  {
   "cell_type": "code",
   "execution_count": 1,
   "metadata": {
    "collapsed": false
   },
   "outputs": [
    {
     "data": {
      "text/html": [
       "<style>@import url('style.css')</style><script>IPython.OutputArea.prototype._should_scroll = function(){return false}</script>"
      ],
      "text/plain": [
       "<IPython.core.display.HTML object>"
      ]
     },
     "metadata": {},
     "output_type": "display_data"
    }
   ],
   "source": [
    "%%html\n",
    "<style>@import url('style.css')</style><script>IPython.OutputArea.prototype._should_scroll = function(){return false}</script>"
   ]
  },
  {
   "cell_type": "code",
   "execution_count": null,
   "metadata": {
    "collapsed": false
   },
   "outputs": [],
   "source": [
    "%run -i '_DataFrame-CSS.ipynb'\n",
    "IPython.display.HTML(_df_style)"
   ]
  },
  {
   "cell_type": "code",
   "execution_count": null,
   "metadata": {
    "collapsed": false
   },
   "outputs": [],
   "source": [
    "%env THEANO_FLAGS=floatX=float32,device=gpu0"
   ]
  },
  {
   "cell_type": "markdown",
   "metadata": {},
   "source": [
    "---\n",
    "### Experiment settings"
   ]
  },
  {
   "cell_type": "code",
   "execution_count": null,
   "metadata": {
    "collapsed": false
   },
   "outputs": [],
   "source": [
    "IMPORT_PATH = '_Datasets/'\n",
    "%run -i '_Datasets/UrbanSound8K.ipynb'"
   ]
  },
  {
   "cell_type": "code",
   "execution_count": null,
   "metadata": {
    "collapsed": false
   },
   "outputs": [],
   "source": [
    "NET_WINDOW_SIZE = 'short'  # 'long' or 'short'\n",
    "NET_MODE = 'majority'     # 'majority' or 'probability'\n",
    "\n",
    "IMPORT_PATH = '_Networks/'\n",
    "%run -i '_Networks/Net-DoubleConv.ipynb'"
   ]
  },
  {
   "cell_type": "markdown",
   "metadata": {},
   "source": [
    "---"
   ]
  },
  {
   "cell_type": "code",
   "execution_count": null,
   "metadata": {
    "collapsed": false
   },
   "outputs": [],
   "source": [
    "for fold in ((10, 1), (1, 2), (2, 3), (3, 4), (4, 5), (5, 6), (6, 7), (7, 8), (8, 9), (9, 10)):\n",
    "    VALIDATION_FOLD = fold[0]\n",
    "    TESTING_FOLD = fold[1]\n",
    "    \n",
    "    if NET_WINDOW_SIZE == 'long':\n",
    "        dataset_shape = (-1, 60, 101, 1)\n",
    "        epochs = 150\n",
    "        learning_rate = 0.01\n",
    "    else:\n",
    "        dataset_shape = (-1, 60, 41, 1)\n",
    "        epochs = 300\n",
    "        learning_rate = 0.002\n",
    "    \n",
    "    dataset = Dataset(urban_features, fold_testing=TESTING_FOLD, fold_validation=VALIDATION_FOLD, shape=dataset_shape)\n",
    "    model = learn_network(plot_filename='Results/UrbanSound8K-' + NET_WINDOW_SIZE + '-' + NET_MODE + '-Fold_' + str(TESTING_FOLD),\n",
    "                          epochs=epochs, learning_rate=learning_rate)\n",
    "    \n",
    "    conf_matrix, aggregated = evaluate_model(dataset, model, TESTING_FOLD, 'Results/UrbanSound8K-' + NET_WINDOW_SIZE + '-' + NET_MODE + '-Fold_' + str(TESTING_FOLD) + '.txt')\n",
    "    \n",
    "    with open('_Models/UrbanSound8K-' + NET_WINDOW_SIZE + '-' + NET_MODE + '-Fold_' + str(TESTING_FOLD) + '_model.pkl', 'wb') as f: cPickle.dump(model, f, 2)\n",
    "    with open('_Models/UrbanSound8K-' + NET_WINDOW_SIZE + '-' + NET_MODE + '-Fold_' + str(TESTING_FOLD) + '_conf.pkl', 'wb') as f: cPickle.dump(conf_matrix, f, 2)    \n",
    "    with open('_Models/UrbanSound8K-' + NET_WINDOW_SIZE + '-' + NET_MODE + '-Fold_' + str(TESTING_FOLD) + '_agg.pkl', 'wb') as f: cPickle.dump(aggregated, f, 2)            "
   ]
  }
 ],
 "metadata": {
  "kernelspec": {
   "display_name": "Python 2",
   "language": "python",
   "name": "python2"
  },
  "language_info": {
   "codemirror_mode": {
    "name": "ipython",
    "version": 2
   },
   "file_extension": ".py",
   "mimetype": "text/x-python",
   "name": "python",
   "nbconvert_exporter": "python",
   "pygments_lexer": "ipython2",
   "version": "2.7.11"
  }
 },
 "nbformat": 4,
 "nbformat_minor": 0
}

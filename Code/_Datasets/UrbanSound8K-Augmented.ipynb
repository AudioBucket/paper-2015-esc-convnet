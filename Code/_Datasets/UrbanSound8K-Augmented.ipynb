{
 "cells": [
  {
   "cell_type": "code",
   "execution_count": 1,
   "metadata": {
    "collapsed": false
   },
   "outputs": [
    {
     "data": {
      "text/html": [
       "<style>@import url('../style.css')</style><script>IPython.OutputArea.prototype._should_scroll = function(){return false}</script>"
      ],
      "text/plain": [
       "<IPython.core.display.HTML object>"
      ]
     },
     "metadata": {},
     "output_type": "display_data"
    }
   ],
   "source": [
    "%%html\n",
    "<style>@import url('../style.css')</style><script>IPython.OutputArea.prototype._should_scroll = function(){return false}</script>"
   ]
  },
  {
   "cell_type": "code",
   "execution_count": 2,
   "metadata": {
    "collapsed": false
   },
   "outputs": [
    {
     "data": {
      "text/html": [
       "<style>@import url('style.css')</style><script>IPython.OutputArea.prototype._should_scroll = function(){return false}</script>"
      ],
      "text/plain": [
       "<IPython.core.display.HTML object>"
      ]
     },
     "metadata": {},
     "output_type": "display_data"
    }
   ],
   "source": [
    "try:\n",
    "    IMPORT_PATH\n",
    "except NameError:\n",
    "    IMPORT_PATH = ''\n",
    "    \n",
    "%run -i {IMPORT_PATH + 'Setup.ipynb'}"
   ]
  },
  {
   "cell_type": "code",
   "execution_count": 3,
   "metadata": {
    "collapsed": true
   },
   "outputs": [],
   "source": [
    "URBAN_PATH = '/home/jovyan/Datasets/AED/'"
   ]
  },
  {
   "cell_type": "code",
   "execution_count": 4,
   "metadata": {
    "collapsed": false,
    "scrolled": true
   },
   "outputs": [
    {
     "name": "stdout",
     "output_type": "stream",
     "text": [
      "8732 / 8732\n"
     ]
    }
   ],
   "source": [
    "urban_meta, urban_audio = load_urbansound()\n",
    "\n",
    "if os.path.isfile(URBAN_PATH + 'urban_features_aug.pkl'):\n",
    "    urban_features = pd.concat((pd.read_pickle(URBAN_PATH + 'urban_features_aug.pkl'),\n",
    "                               pd.read_pickle(URBAN_PATH + 'urban_features_aug2.pkl')))\n",
    "else:\n",
    "    urban_features = extract_features(urban_meta, urban_audio, 4)\n",
    "    urban_features[0:150000].to_pickle(URBAN_PATH + 'urban_features_aug.pkl')\n",
    "    urban_features[150000:].to_pickle(URBAN_PATH + 'urban_features_aug2.pkl')"
   ]
  },
  {
   "cell_type": "code",
   "execution_count": 5,
   "metadata": {
    "collapsed": false
   },
   "outputs": [
    {
     "name": "stdout",
     "output_type": "stream",
     "text": [
      "UrbanSound8K dataset loaded.\n"
     ]
    }
   ],
   "source": [
    "IPython.display.clear_output(wait=True)\n",
    "print 'UrbanSound8K dataset loaded.'"
   ]
  }
 ],
 "metadata": {
  "kernelspec": {
   "display_name": "Python 2",
   "language": "python",
   "name": "python2"
  },
  "language_info": {
   "codemirror_mode": {
    "name": "ipython",
    "version": 2
   },
   "file_extension": ".py",
   "mimetype": "text/x-python",
   "name": "python",
   "nbconvert_exporter": "python",
   "pygments_lexer": "ipython2",
   "version": "2.7.11"
  }
 },
 "nbformat": 4,
 "nbformat_minor": 0
}
